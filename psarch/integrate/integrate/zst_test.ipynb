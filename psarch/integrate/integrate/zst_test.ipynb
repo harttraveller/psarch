{
 "cells": [
  {
   "cell_type": "code",
   "execution_count": 1,
   "metadata": {},
   "outputs": [],
   "source": [
    "import os\n",
    "from psarch.io import ZSTJSONL\n",
    "from time import perf_counter"
   ]
  },
  {
   "cell_type": "code",
   "execution_count": 2,
   "metadata": {},
   "outputs": [],
   "source": [
    "data_path = \"../data/RC_2011-01.zst\""
   ]
  },
  {
   "cell_type": "code",
   "execution_count": 3,
   "metadata": {},
   "outputs": [
    {
     "ename": "FileNotFoundError",
     "evalue": "[Errno 2] No such file or directory: '../data/RC_2011-01.zst'",
     "output_type": "error",
     "traceback": [
      "\u001b[0;31m---------------------------------------------------------------------------\u001b[0m",
      "\u001b[0;31mFileNotFoundError\u001b[0m                         Traceback (most recent call last)",
      "Cell \u001b[0;32mIn[3], line 1\u001b[0m\n\u001b[0;32m----> 1\u001b[0m file \u001b[39m=\u001b[39m ZSTJSONL(data_path)\n",
      "File \u001b[0;32m~/Local/repo/single/psarch/psarch/io.py:12\u001b[0m, in \u001b[0;36mZSTJSONL.__init__\u001b[0;34m(self, path, size)\u001b[0m\n\u001b[1;32m     10\u001b[0m \u001b[39mdef\u001b[39;00m \u001b[39m__init__\u001b[39m(\u001b[39mself\u001b[39m, path: \u001b[39mstr\u001b[39m, size: \u001b[39mint\u001b[39m \u001b[39m=\u001b[39m \u001b[39mint\u001b[39m(\u001b[39m2\u001b[39m\u001b[39m*\u001b[39m\u001b[39m*\u001b[39m\u001b[39m20\u001b[39m)) \u001b[39m-\u001b[39m\u001b[39m>\u001b[39m \u001b[39mNone\u001b[39;00m:\n\u001b[1;32m     11\u001b[0m     \u001b[39mself\u001b[39m\u001b[39m.\u001b[39mstream \u001b[39m=\u001b[39m ZstdDecompressor(max_window_size\u001b[39m=\u001b[39m\u001b[39mint\u001b[39m(\u001b[39m2\u001b[39m\u001b[39m*\u001b[39m\u001b[39m*\u001b[39m\u001b[39m31\u001b[39m))\u001b[39m.\u001b[39mstream_reader(\n\u001b[0;32m---> 12\u001b[0m         \u001b[39mopen\u001b[39;49m(path, \u001b[39m\"\u001b[39;49m\u001b[39mrb\u001b[39;49m\u001b[39m\"\u001b[39;49m)\n\u001b[1;32m     13\u001b[0m     )\n\u001b[1;32m     14\u001b[0m     \u001b[39mself\u001b[39m\u001b[39m.\u001b[39msize \u001b[39m=\u001b[39m size\n\u001b[1;32m     15\u001b[0m     \u001b[39mself\u001b[39m\u001b[39m.\u001b[39mbuffer \u001b[39m=\u001b[39m \u001b[39mb\u001b[39m\u001b[39m\"\u001b[39m\u001b[39m\"\u001b[39m\n",
      "\u001b[0;31mFileNotFoundError\u001b[0m: [Errno 2] No such file or directory: '../data/RC_2011-01.zst'"
     ]
    }
   ],
   "source": [
    "file = ZSTJSONL(data_path)"
   ]
  },
  {
   "cell_type": "code",
   "execution_count": 21,
   "metadata": {},
   "outputs": [
    {
     "name": "stdout",
     "output_type": "stream",
     "text": [
      "7.05 µs ± 16.3 ns per loop (mean ± std. dev. of 7 runs, 100,000 loops each)\n"
     ]
    }
   ],
   "source": [
    "%%timeit\n",
    "data = json.loads(comment)\n",
    "keys = set(data.keys())"
   ]
  },
  {
   "cell_type": "code",
   "execution_count": 25,
   "metadata": {},
   "outputs": [
    {
     "name": "stdout",
     "output_type": "stream",
     "text": [
      "2.59 µs ± 12.2 ns per loop (mean ± std. dev. of 7 runs, 100,000 loops each)\n"
     ]
    }
   ],
   "source": [
    "%%timeit\n",
    "data = orjson.loads(comment)\n",
    "keys = set(data.keys())"
   ]
  },
  {
   "cell_type": "code",
   "execution_count": 23,
   "metadata": {},
   "outputs": [],
   "source": [
    "parser = cysimdjson.JSONParser()"
   ]
  },
  {
   "cell_type": "code",
   "execution_count": 26,
   "metadata": {},
   "outputs": [
    {
     "name": "stdout",
     "output_type": "stream",
     "text": [
      "2.73 µs ± 80.5 ns per loop (mean ± std. dev. of 7 runs, 100,000 loops each)\n"
     ]
    }
   ],
   "source": [
    "%%timeit\n",
    "data = parser.loads(comment)\n",
    "keys = set(data.keys())"
   ]
  },
  {
   "cell_type": "code",
   "execution_count": 13,
   "metadata": {},
   "outputs": [],
   "source": [
    "data = parser.loads(comment)"
   ]
  },
  {
   "cell_type": "code",
   "execution_count": 16,
   "metadata": {},
   "outputs": [
    {
     "data": {
      "text/plain": [
       "{'all_awardings',\n",
       " 'archived',\n",
       " 'associated_award',\n",
       " 'author',\n",
       " 'author_created_utc',\n",
       " 'author_flair_background_color',\n",
       " 'author_flair_css_class',\n",
       " 'author_flair_richtext',\n",
       " 'author_flair_template_id',\n",
       " 'author_flair_text',\n",
       " 'author_flair_text_color',\n",
       " 'author_flair_type',\n",
       " 'author_fullname',\n",
       " 'author_patreon_flair',\n",
       " 'author_premium',\n",
       " 'body',\n",
       " 'can_gild',\n",
       " 'collapsed',\n",
       " 'collapsed_because_crowd_control',\n",
       " 'collapsed_reason',\n",
       " 'collapsed_reason_code',\n",
       " 'comment_type',\n",
       " 'controversiality',\n",
       " 'created_utc',\n",
       " 'distinguished',\n",
       " 'edited',\n",
       " 'gilded',\n",
       " 'gildings',\n",
       " 'id',\n",
       " 'is_submitter',\n",
       " 'link_id',\n",
       " 'locked',\n",
       " 'name',\n",
       " 'no_follow',\n",
       " 'parent_id',\n",
       " 'permalink',\n",
       " 'retrieved_on',\n",
       " 'score',\n",
       " 'score_hidden',\n",
       " 'send_replies',\n",
       " 'stickied',\n",
       " 'subreddit',\n",
       " 'subreddit_id',\n",
       " 'subreddit_name_prefixed',\n",
       " 'subreddit_type',\n",
       " 'top_awarded_type',\n",
       " 'total_awards_received',\n",
       " 'treatment_tags',\n",
       " 'unrepliable_reason'}"
      ]
     },
     "execution_count": 16,
     "metadata": {},
     "output_type": "execute_result"
    }
   ],
   "source": [
    "set(data.keys())"
   ]
  },
  {
   "attachments": {},
   "cell_type": "markdown",
   "metadata": {},
   "source": [
    "- search by word\n",
    "- search by similar words (word2vec)\n",
    "- search by strings of words / tokens\n",
    "- create custom search filters"
   ]
  },
  {
   "cell_type": "code",
   "execution_count": 84,
   "metadata": {},
   "outputs": [],
   "source": [
    "class Comment(Struct):\n",
    "    controversiality: float #*\n",
    "    body: str #*\n",
    "    subreddit_id: str #!\n",
    "    link_id: str #* submission id?\n",
    "    subreddit: str #*\n",
    "    score: int #*\n",
    "    ups: int #*\n",
    "    created_utc: str #*\n",
    "    author: str #*\n",
    "    id: str #* comment id?\n",
    "    edited: bool\n",
    "    parent_id: str \n",
    "    gilded: int\n",
    "    retrieved_on: int\n",
    "    stickied: Optional[bool] = None\n",
    "    author_flair_css_class: Optional[str] = None\n",
    "    author_flair_text: Optional[str] = None\n",
    "    distinguished: Optional[str] = None"
   ]
  },
  {
   "cell_type": "code",
   "execution_count": 85,
   "metadata": {},
   "outputs": [],
   "source": [
    "data = decode(comment, type=Comment)"
   ]
  },
  {
   "cell_type": "code",
   "execution_count": 86,
   "metadata": {},
   "outputs": [
    {
     "data": {
      "text/plain": [
       "Comment(controversiality=0.0, body=\"So many votes, and an almost even karma score!\\n\\nTo be fair to Firefly, it didn't get a full run the way mad men currently is.  Who knows -- maybe if it had aired on AMC instead of Fox things would have been very different.\", subreddit_id='t5_2qh2z', link_id='t3_etyng', subreddit='scifi', score=2, ups=2, created_utc='1293840005', author='zachm', id='c1b06ft', edited=False, parent_id='t1_c1axlqc', gilded=0, retrieved_on=1426664469, stickied=None, author_flair_css_class=None, author_flair_text=None, distinguished=None)"
      ]
     },
     "execution_count": 86,
     "metadata": {},
     "output_type": "execute_result"
    }
   ],
   "source": [
    "data"
   ]
  },
  {
   "cell_type": "code",
   "execution_count": 95,
   "metadata": {},
   "outputs": [],
   "source": [
    "import json"
   ]
  },
  {
   "cell_type": "code",
   "execution_count": 96,
   "metadata": {},
   "outputs": [
    {
     "data": {
      "text/plain": [
       "{'gilded': 0,\n",
       " 'distinguished': None,\n",
       " 'retrieved_on': 1426664469,\n",
       " 'edited': False,\n",
       " 'author_flair_text': None,\n",
       " 'controversiality': 0,\n",
       " 'subreddit': 'scifi',\n",
       " 'created_utc': '1293840005',\n",
       " 'parent_id': 't1_c1axlqc',\n",
       " 'author': 'zachm',\n",
       " 'subreddit_id': 't5_2qh2z',\n",
       " 'name': 't1_c1b06ft',\n",
       " 'score': 2,\n",
       " 'score_hidden': False,\n",
       " 'link_id': 't3_etyng',\n",
       " 'downs': 0,\n",
       " 'archived': True,\n",
       " 'author_flair_css_class': None,\n",
       " 'id': 'c1b06ft',\n",
       " 'body': \"So many votes, and an almost even karma score!\\n\\nTo be fair to Firefly, it didn't get a full run the way mad men currently is.  Who knows -- maybe if it had aired on AMC instead of Fox things would have been very different.\",\n",
       " 'ups': 2}"
      ]
     },
     "execution_count": 96,
     "metadata": {},
     "output_type": "execute_result"
    }
   ],
   "source": [
    "json.loads(comment)"
   ]
  },
  {
   "cell_type": "code",
   "execution_count": 88,
   "metadata": {},
   "outputs": [
    {
     "data": {
      "text/plain": [
       "'c1b06ft'"
      ]
     },
     "execution_count": 88,
     "metadata": {},
     "output_type": "execute_result"
    }
   ],
   "source": [
    "data.id"
   ]
  },
  {
   "cell_type": "code",
   "execution_count": 89,
   "metadata": {},
   "outputs": [
    {
     "data": {
      "text/plain": [
       "'t1_c1axlqc'"
      ]
     },
     "execution_count": 89,
     "metadata": {},
     "output_type": "execute_result"
    }
   ],
   "source": [
    "data.parent_id"
   ]
  },
  {
   "cell_type": "code",
   "execution_count": 90,
   "metadata": {},
   "outputs": [
    {
     "data": {
      "text/plain": [
       "'t3_etyng'"
      ]
     },
     "execution_count": 90,
     "metadata": {},
     "output_type": "execute_result"
    }
   ],
   "source": [
    "data.link_id"
   ]
  },
  {
   "cell_type": "code",
   "execution_count": 61,
   "metadata": {},
   "outputs": [
    {
     "name": "stdout",
     "output_type": "stream",
     "text": [
      "1.22 µs ± 23 ns per loop (mean ± std. dev. of 7 runs, 1,000,000 loops each)\n"
     ]
    }
   ],
   "source": [
    "%%timeit\n",
    "data = decode(comment, type=Comment)"
   ]
  },
  {
   "cell_type": "code",
   "execution_count": 1,
   "metadata": {},
   "outputs": [],
   "source": [
    "d = {1:2}"
   ]
  },
  {
   "cell_type": "code",
   "execution_count": 6,
   "metadata": {},
   "outputs": [],
   "source": [
    "def save_json(data, path) -> None:\n",
    "    with open(path, \"w\") as file:\n",
    "        json.dump(data, file)\n",
    "    file.close()\n"
   ]
  },
  {
   "cell_type": "code",
   "execution_count": 3,
   "metadata": {},
   "outputs": [],
   "source": [
    "import json"
   ]
  },
  {
   "cell_type": "code",
   "execution_count": 7,
   "metadata": {},
   "outputs": [],
   "source": [
    "save_json(d, \"test.json\")"
   ]
  },
  {
   "cell_type": "code",
   "execution_count": 4,
   "metadata": {},
   "outputs": [
    {
     "ename": "AttributeError",
     "evalue": "'str' object has no attribute 'write'",
     "output_type": "error",
     "traceback": [
      "\u001b[0;31m---------------------------------------------------------------------------\u001b[0m",
      "\u001b[0;31mAttributeError\u001b[0m                            Traceback (most recent call last)",
      "Cell \u001b[0;32mIn [4], line 1\u001b[0m\n\u001b[0;32m----> 1\u001b[0m json\u001b[39m.\u001b[39;49mdump(d, \u001b[39m\"\u001b[39;49m\u001b[39mtest.json\u001b[39;49m\u001b[39m\"\u001b[39;49m)\n",
      "File \u001b[0;32m/opt/miniconda3/lib/python3.9/json/__init__.py:180\u001b[0m, in \u001b[0;36mdump\u001b[0;34m(obj, fp, skipkeys, ensure_ascii, check_circular, allow_nan, cls, indent, separators, default, sort_keys, **kw)\u001b[0m\n\u001b[1;32m    177\u001b[0m \u001b[39m# could accelerate with writelines in some versions of Python, at\u001b[39;00m\n\u001b[1;32m    178\u001b[0m \u001b[39m# a debuggability cost\u001b[39;00m\n\u001b[1;32m    179\u001b[0m \u001b[39mfor\u001b[39;00m chunk \u001b[39min\u001b[39;00m iterable:\n\u001b[0;32m--> 180\u001b[0m     fp\u001b[39m.\u001b[39;49mwrite(chunk)\n",
      "\u001b[0;31mAttributeError\u001b[0m: 'str' object has no attribute 'write'"
     ]
    }
   ],
   "source": [
    "json.dump(d, \"test.json\")"
   ]
  },
  {
   "cell_type": "code",
   "execution_count": null,
   "metadata": {},
   "outputs": [],
   "source": []
  },
  {
   "cell_type": "code",
   "execution_count": 40,
   "metadata": {},
   "outputs": [
    {
     "name": "stdout",
     "output_type": "stream",
     "text": [
      "{\"controversiality\":0,\"body\":\"A look at Vietnam and Mexico exposes the myth of market liberalisation.\",\"subreddit_id\":\"t5_6\",\"link_id\":\"t3_17863\",\"stickied\":false,\"subreddit\":\"reddit.com\",\"score\":2,\"ups\":2,\"author_flair_css_class\":null,\"created_utc\":1134365188,\"author_flair_text\":null,\"author\":\"frjo\",\"id\":\"c13\",\"edited\":false,\"parent_id\":\"t3_17863\",\"gilded\":0,\"distinguished\":null,\"retrieved_on\":1473738411}\n",
      "{\"created_utc\":1134365725,\"author_flair_css_class\":null,\"score\":1,\"ups\":1,\"subreddit\":\"reddit.com\",\"stickied\":false,\"link_id\":\"t3_17866\",\"subreddit_id\":\"t5_6\",\"controversiality\":0,\"body\":\"The site states \\\"What can I use it for? Meeting notes, Reports, technical specs Sign-up sheets, proposals and much more...\\\", just like any other new breeed of sites that want us to store everything we have on the web. And they even guarantee multiple levels of security and encryption etc. But what prevents these web site operators fom accessing and/or stealing Meeting notes, Reports, technical specs Sign-up sheets, proposals and much more, for competitive or personal gains...? I am pretty sure that most of them are honest, but what's there to prevent me from setting up a good useful site and stealing all your data? Call me paranoid - I am.\",\"retrieved_on\":1473738411,\"distinguished\":null,\"gilded\":0,\"id\":\"c14\",\"edited\":false,\"parent_id\":\"t3_17866\",\"author\":\"zse7zse\",\"author_flair_text\":null}\n"
     ]
    }
   ],
   "source": [
    "c = 0\n",
    "for i in obj:\n",
    "    print(i)\n",
    "    if c == 1:\n",
    "        break\n",
    "    c += 1"
   ]
  },
  {
   "cell_type": "code",
   "execution_count": null,
   "metadata": {},
   "outputs": [],
   "source": []
  },
  {
   "cell_type": "code",
   "execution_count": null,
   "metadata": {},
   "outputs": [],
   "source": []
  }
 ],
 "metadata": {
  "kernelspec": {
   "display_name": "base",
   "language": "python",
   "name": "python3"
  },
  "language_info": {
   "codemirror_mode": {
    "name": "ipython",
    "version": 3
   },
   "file_extension": ".py",
   "mimetype": "text/x-python",
   "name": "python",
   "nbconvert_exporter": "python",
   "pygments_lexer": "ipython3",
   "version": "3.10.8"
  },
  "orig_nbformat": 4,
  "vscode": {
   "interpreter": {
    "hash": "3d597f4c481aa0f25dceb95d2a0067e73c0966dcbd003d741d821a7208527ecf"
   }
  }
 },
 "nbformat": 4,
 "nbformat_minor": 2
}
