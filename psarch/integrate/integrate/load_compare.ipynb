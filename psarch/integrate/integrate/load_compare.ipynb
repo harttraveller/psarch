{
 "cells": [
  {
   "cell_type": "code",
   "execution_count": 34,
   "metadata": {},
   "outputs": [],
   "source": [
    "import os\n",
    "import pandas as pd\n",
    "from tqdm import tqdm\n",
    "\n",
    "from psarch.io import ZSTJSONL\n",
    "from psarch.handler import CommentHandler\n",
    "\n",
    "import spacy\n",
    "\n",
    "nlp = spacy.load(\"en_core_web_sm\")"
   ]
  },
  {
   "cell_type": "code",
   "execution_count": 3,
   "metadata": {},
   "outputs": [],
   "source": [
    "import datetime\n",
    "\n",
    "def unix_to_datetime(unix_time):\n",
    "    return datetime.datetime.fromtimestamp(unix_time)\n",
    "\n",
    "def datetime_to_unix(dt):\n",
    "    return int(dt.timestamp())"
   ]
  },
  {
   "cell_type": "code",
   "execution_count": 12,
   "metadata": {},
   "outputs": [],
   "source": [
    "path = \"/Volumes/Elements/data/pushshift/reddit/comments\"\n",
    "files = [f for f in os.listdir(path) if f.split(\".\")[-1] == \"zst\"]\n",
    "file = f\"{path}/{files[1]}\""
   ]
  },
  {
   "cell_type": "code",
   "execution_count": 13,
   "metadata": {},
   "outputs": [
    {
     "data": {
      "text/plain": [
       "'/Volumes/Elements/data/pushshift/reddit/comments/RC_2010-04.zst'"
      ]
     },
     "execution_count": 13,
     "metadata": {},
     "output_type": "execute_result"
    }
   ],
   "source": [
    "file"
   ]
  },
  {
   "cell_type": "code",
   "execution_count": 14,
   "metadata": {},
   "outputs": [
    {
     "name": "stderr",
     "output_type": "stream",
     "text": [
      "3209898it [00:14, 225084.29it/s]\n"
     ]
    }
   ],
   "source": [
    "zst = ZSTJSONL(file)\n",
    "comments = zst.process(CommentHandler.parse)"
   ]
  },
  {
   "cell_type": "code",
   "execution_count": 37,
   "metadata": {},
   "outputs": [],
   "source": [
    "df = pd.DataFrame(comments)"
   ]
  },
  {
   "cell_type": "code",
   "execution_count": 51,
   "metadata": {},
   "outputs": [],
   "source": [
    "iam = df[df[\"body\"].str.contains(\"I am from\")]\n",
    "comments = iam[\"body\"].tolist()"
   ]
  },
  {
   "cell_type": "code",
   "execution_count": 52,
   "metadata": {},
   "outputs": [
    {
     "name": "stderr",
     "output_type": "stream",
     "text": [
      "100%|██████████| 419/419 [00:06<00:00, 67.20it/s]\n"
     ]
    }
   ],
   "source": [
    "data = list()\n",
    "for sent in tqdm(comments[:n]):\n",
    "    doc = nlp(sent)\n",
    "    locations = [ent.text for ent in doc.ents if ent.label_ == \"GPE\"]\n",
    "    if len(locations):\n",
    "        data.append({\"sent\": sent, \"locs\": locations})"
   ]
  },
  {
   "cell_type": "code",
   "execution_count": 54,
   "metadata": {},
   "outputs": [],
   "source": [
    "import contractions"
   ]
  },
  {
   "cell_type": "code",
   "execution_count": 57,
   "metadata": {},
   "outputs": [
    {
     "data": {
      "text/html": [
       "<div>\n",
       "<style scoped>\n",
       "    .dataframe tbody tr th:only-of-type {\n",
       "        vertical-align: middle;\n",
       "    }\n",
       "\n",
       "    .dataframe tbody tr th {\n",
       "        vertical-align: top;\n",
       "    }\n",
       "\n",
       "    .dataframe thead th {\n",
       "        text-align: right;\n",
       "    }\n",
       "</style>\n",
       "<table border=\"1\" class=\"dataframe\">\n",
       "  <thead>\n",
       "    <tr style=\"text-align: right;\">\n",
       "      <th></th>\n",
       "      <th>author</th>\n",
       "      <th>subreddit</th>\n",
       "      <th>score</th>\n",
       "      <th>body</th>\n",
       "      <th>flair</th>\n",
       "      <th>created</th>\n",
       "      <th>root</th>\n",
       "      <th>id.comment</th>\n",
       "      <th>id.parent</th>\n",
       "      <th>id.post</th>\n",
       "    </tr>\n",
       "  </thead>\n",
       "  <tbody>\n",
       "    <tr>\n",
       "      <th>0</th>\n",
       "      <td>perspectiveiskey</td>\n",
       "      <td>canada</td>\n",
       "      <td>2</td>\n",
       "      <td>The other thing I love is people who leave wh...</td>\n",
       "      <td>None</td>\n",
       "      <td>1270080000</td>\n",
       "      <td>False</td>\n",
       "      <td>c0na6o6</td>\n",
       "      <td>c0na5h5</td>\n",
       "      <td>bkux5</td>\n",
       "    </tr>\n",
       "    <tr>\n",
       "      <th>1</th>\n",
       "      <td>TheAntiRudin</td>\n",
       "      <td>Music</td>\n",
       "      <td>2</td>\n",
       "      <td>Joy Division - [Atmosphere](http://www.youtube...</td>\n",
       "      <td>None</td>\n",
       "      <td>1270080000</td>\n",
       "      <td>True</td>\n",
       "      <td>c0na6o7</td>\n",
       "      <td>bkpsh</td>\n",
       "      <td>bkpsh</td>\n",
       "    </tr>\n",
       "    <tr>\n",
       "      <th>2</th>\n",
       "      <td>[deleted]</td>\n",
       "      <td>xbox360</td>\n",
       "      <td>1</td>\n",
       "      <td>How would natal work with an FPS?  Would I hav...</td>\n",
       "      <td>None</td>\n",
       "      <td>1270080001</td>\n",
       "      <td>False</td>\n",
       "      <td>c0na6o8</td>\n",
       "      <td>c0n99sp</td>\n",
       "      <td>bkr18</td>\n",
       "    </tr>\n",
       "    <tr>\n",
       "      <th>3</th>\n",
       "      <td>[deleted]</td>\n",
       "      <td>reddit.com</td>\n",
       "      <td>1</td>\n",
       "      <td>[deleted]</td>\n",
       "      <td>None</td>\n",
       "      <td>1270080001</td>\n",
       "      <td>True</td>\n",
       "      <td>c0na6o9</td>\n",
       "      <td>bkww0</td>\n",
       "      <td>bkww0</td>\n",
       "    </tr>\n",
       "    <tr>\n",
       "      <th>4</th>\n",
       "      <td>RedAlert2</td>\n",
       "      <td>fffffffuuuuuuuuuuuu</td>\n",
       "      <td>1</td>\n",
       "      <td>eztv is the best place, other torrent sites us...</td>\n",
       "      <td>None</td>\n",
       "      <td>1270080001</td>\n",
       "      <td>False</td>\n",
       "      <td>c0na6oa</td>\n",
       "      <td>c0n9aoc</td>\n",
       "      <td>bkp98</td>\n",
       "    </tr>\n",
       "    <tr>\n",
       "      <th>...</th>\n",
       "      <td>...</td>\n",
       "      <td>...</td>\n",
       "      <td>...</td>\n",
       "      <td>...</td>\n",
       "      <td>...</td>\n",
       "      <td>...</td>\n",
       "      <td>...</td>\n",
       "      <td>...</td>\n",
       "      <td>...</td>\n",
       "      <td>...</td>\n",
       "    </tr>\n",
       "    <tr>\n",
       "      <th>3209893</th>\n",
       "      <td>IcedOutBart</td>\n",
       "      <td>reddit.com</td>\n",
       "      <td>1</td>\n",
       "      <td>\"fucky\"</td>\n",
       "      <td>None</td>\n",
       "      <td>1272671995</td>\n",
       "      <td>True</td>\n",
       "      <td>c0p7646</td>\n",
       "      <td>byggk</td>\n",
       "      <td>byggk</td>\n",
       "    </tr>\n",
       "    <tr>\n",
       "      <th>3209894</th>\n",
       "      <td>Hllblzr310</td>\n",
       "      <td>politics</td>\n",
       "      <td>1</td>\n",
       "      <td>There are no \"drill, baby, drill\" people clean...</td>\n",
       "      <td>None</td>\n",
       "      <td>1272671997</td>\n",
       "      <td>False</td>\n",
       "      <td>c0p7647</td>\n",
       "      <td>c0p73x8</td>\n",
       "      <td>bycve</td>\n",
       "    </tr>\n",
       "    <tr>\n",
       "      <th>3209895</th>\n",
       "      <td>moonman</td>\n",
       "      <td>politics</td>\n",
       "      <td>7</td>\n",
       "      <td>Uncle Leo?</td>\n",
       "      <td>None</td>\n",
       "      <td>1272671997</td>\n",
       "      <td>False</td>\n",
       "      <td>c0p7648</td>\n",
       "      <td>c0p6y10</td>\n",
       "      <td>bycve</td>\n",
       "    </tr>\n",
       "    <tr>\n",
       "      <th>3209896</th>\n",
       "      <td>[deleted]</td>\n",
       "      <td>worldnews</td>\n",
       "      <td>1</td>\n",
       "      <td>*Bigotry is not reasonable.*\\n\\nThis coming fr...</td>\n",
       "      <td>None</td>\n",
       "      <td>1272671998</td>\n",
       "      <td>False</td>\n",
       "      <td>c0p7649</td>\n",
       "      <td>c0p5ueu</td>\n",
       "      <td>byagu</td>\n",
       "    </tr>\n",
       "    <tr>\n",
       "      <th>3209897</th>\n",
       "      <td>monosyllabic</td>\n",
       "      <td>pics</td>\n",
       "      <td>8</td>\n",
       "      <td>Once you observe and call out the meme, its qu...</td>\n",
       "      <td>None</td>\n",
       "      <td>1272671999</td>\n",
       "      <td>False</td>\n",
       "      <td>c0p764a</td>\n",
       "      <td>c0p72hg</td>\n",
       "      <td>byjaf</td>\n",
       "    </tr>\n",
       "  </tbody>\n",
       "</table>\n",
       "<p>3209898 rows × 10 columns</p>\n",
       "</div>"
      ],
      "text/plain": [
       "                   author            subreddit  score  \\\n",
       "0        perspectiveiskey               canada      2   \n",
       "1            TheAntiRudin                Music      2   \n",
       "2               [deleted]              xbox360      1   \n",
       "3               [deleted]           reddit.com      1   \n",
       "4               RedAlert2  fffffffuuuuuuuuuuuu      1   \n",
       "...                   ...                  ...    ...   \n",
       "3209893       IcedOutBart           reddit.com      1   \n",
       "3209894        Hllblzr310             politics      1   \n",
       "3209895           moonman             politics      7   \n",
       "3209896         [deleted]            worldnews      1   \n",
       "3209897      monosyllabic                 pics      8   \n",
       "\n",
       "                                                      body flair     created  \\\n",
       "0         The other thing I love is people who leave wh...  None  1270080000   \n",
       "1        Joy Division - [Atmosphere](http://www.youtube...  None  1270080000   \n",
       "2        How would natal work with an FPS?  Would I hav...  None  1270080001   \n",
       "3                                                [deleted]  None  1270080001   \n",
       "4        eztv is the best place, other torrent sites us...  None  1270080001   \n",
       "...                                                    ...   ...         ...   \n",
       "3209893                                            \"fucky\"  None  1272671995   \n",
       "3209894  There are no \"drill, baby, drill\" people clean...  None  1272671997   \n",
       "3209895                                         Uncle Leo?  None  1272671997   \n",
       "3209896  *Bigotry is not reasonable.*\\n\\nThis coming fr...  None  1272671998   \n",
       "3209897  Once you observe and call out the meme, its qu...  None  1272671999   \n",
       "\n",
       "          root id.comment id.parent id.post  \n",
       "0        False    c0na6o6   c0na5h5   bkux5  \n",
       "1         True    c0na6o7     bkpsh   bkpsh  \n",
       "2        False    c0na6o8   c0n99sp   bkr18  \n",
       "3         True    c0na6o9     bkww0   bkww0  \n",
       "4        False    c0na6oa   c0n9aoc   bkp98  \n",
       "...        ...        ...       ...     ...  \n",
       "3209893   True    c0p7646     byggk   byggk  \n",
       "3209894  False    c0p7647   c0p73x8   bycve  \n",
       "3209895  False    c0p7648   c0p6y10   bycve  \n",
       "3209896  False    c0p7649   c0p5ueu   byagu  \n",
       "3209897  False    c0p764a   c0p72hg   byjaf  \n",
       "\n",
       "[3209898 rows x 10 columns]"
      ]
     },
     "execution_count": 57,
     "metadata": {},
     "output_type": "execute_result"
    }
   ],
   "source": [
    "df"
   ]
  },
  {
   "cell_type": "code",
   "execution_count": null,
   "metadata": {},
   "outputs": [],
   "source": []
  },
  {
   "attachments": {},
   "cell_type": "markdown",
   "metadata": {},
   "source": [
    "request, assertion\n",
    "\n",
    "action, state\n",
    "\n",
    "- action: purpose\n",
    "\n",
    "past, present, future\n",
    "\n",
    "self, other, self+other"
   ]
  },
  {
   "attachments": {},
   "cell_type": "markdown",
   "metadata": {},
   "source": [
    "The government has no right to tell me what I can and cannot wear, | and this is not an exception\n",
    "\n",
    "- assertion\n",
    "- state\n",
    "- present\n",
    "- self+other[government]\n",
    "\n",
    "\n",
    "assertion of state about the right of an entity to perform an action (make a request for action, tell the individual what they can and cannot wear)"
   ]
  },
  {
   "cell_type": "code",
   "execution_count": 35,
   "metadata": {},
   "outputs": [],
   "source": [
    "doc = nlp(iam[1])"
   ]
  },
  {
   "cell_type": "code",
   "execution_count": 40,
   "metadata": {},
   "outputs": [
    {
     "data": {
      "text/plain": [
       "['seattle', 'the past couple of years']"
      ]
     },
     "execution_count": 40,
     "metadata": {},
     "output_type": "execute_result"
    }
   ],
   "source": []
  },
  {
   "cell_type": "code",
   "execution_count": 41,
   "metadata": {},
   "outputs": [
    {
     "data": {
      "text/plain": [
       "['GPE', 'DATE']"
      ]
     },
     "execution_count": 41,
     "metadata": {},
     "output_type": "execute_result"
    }
   ],
   "source": [
    "[ent.label_ for ent in doc.ents]"
   ]
  },
  {
   "cell_type": "code",
   "execution_count": 36,
   "metadata": {},
   "outputs": [
    {
     "name": "stdout",
     "output_type": "stream",
     "text": [
      "seattle 10 17 GPE\n",
      "the past couple of years 25 49 DATE\n"
     ]
    }
   ],
   "source": [
    "for ent in doc.ents:\n",
    "    print(ent.text, ent.start_char, ent.end_char, ent.label_)"
   ]
  },
  {
   "cell_type": "code",
   "execution_count": null,
   "metadata": {},
   "outputs": [],
   "source": []
  }
 ],
 "metadata": {
  "kernelspec": {
   "display_name": "base",
   "language": "python",
   "name": "python3"
  },
  "language_info": {
   "codemirror_mode": {
    "name": "ipython",
    "version": 3
   },
   "file_extension": ".py",
   "mimetype": "text/x-python",
   "name": "python",
   "nbconvert_exporter": "python",
   "pygments_lexer": "ipython3",
   "version": "3.10.8"
  },
  "orig_nbformat": 4
 },
 "nbformat": 4,
 "nbformat_minor": 2
}
